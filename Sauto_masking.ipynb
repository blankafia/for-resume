{
 "cells": [
  {
   "cell_type": "code",
   "execution_count": 1,
   "metadata": {
    "collapsed": true
   },
   "outputs": [],
   "source": [
    "import pandas as pd\n",
    "import numpy as np\n",
    "import pypyodbc as podbc\n",
    "from ipykernel import kernelapp as app\n",
    "import matplotlib.pyplot as plt\n",
    "%matplotlib inline\n",
    "import seaborn as sns"
   ]
  },
  {
   "cell_type": "code",
   "execution_count": 2,
   "metadata": {
    "scrolled": false
   },
   "outputs": [
    {
     "name": "stdout",
     "output_type": "stream",
     "text": [
      "400715\n",
      "Index(['id', 'make', 'model', 'makeyear', 'kilometer', 'power', 'datein',\n",
      "       'price', 'seller'],\n",
      "      dtype='object')\n"
     ]
    },
    {
     "data": {
      "text/html": [
       "<div>\n",
       "<table border=\"1\" class=\"dataframe\">\n",
       "  <thead>\n",
       "    <tr style=\"text-align: right;\">\n",
       "      <th></th>\n",
       "      <th>id</th>\n",
       "      <th>make</th>\n",
       "      <th>model</th>\n",
       "      <th>makeyear</th>\n",
       "      <th>kilometer</th>\n",
       "      <th>power</th>\n",
       "      <th>datein</th>\n",
       "      <th>price</th>\n",
       "      <th>seller</th>\n",
       "    </tr>\n",
       "  </thead>\n",
       "  <tbody>\n",
       "    <tr>\n",
       "      <th>0</th>\n",
       "      <td>64878582</td>\n",
       "      <td>Chevrolet</td>\n",
       "      <td>Spark</td>\n",
       "      <td>2008.0</td>\n",
       "      <td>76901.0</td>\n",
       "      <td>38.0</td>\n",
       "      <td>2017-01-01 01:27:43</td>\n",
       "      <td>48000.0</td>\n",
       "      <td>None</td>\n",
       "    </tr>\n",
       "    <tr>\n",
       "      <th>1</th>\n",
       "      <td>64878919</td>\n",
       "      <td>Audi</td>\n",
       "      <td>A3</td>\n",
       "      <td>2016.0</td>\n",
       "      <td>3914.0</td>\n",
       "      <td>92.0</td>\n",
       "      <td>2017-01-01 04:07:21</td>\n",
       "      <td>629000.0</td>\n",
       "      <td>Auto Jarov, s.r.o. - Das WeltAuto</td>\n",
       "    </tr>\n",
       "    <tr>\n",
       "      <th>2</th>\n",
       "      <td>64878920</td>\n",
       "      <td>VW</td>\n",
       "      <td>Golf Sportsvan</td>\n",
       "      <td>2016.0</td>\n",
       "      <td>14852.0</td>\n",
       "      <td>92.0</td>\n",
       "      <td>2017-01-01 04:07:24</td>\n",
       "      <td>468000.0</td>\n",
       "      <td>Auto Jarov, s.r.o. - Das WeltAuto</td>\n",
       "    </tr>\n",
       "    <tr>\n",
       "      <th>3</th>\n",
       "      <td>64878921</td>\n",
       "      <td>VW</td>\n",
       "      <td>Golf Sportsvan</td>\n",
       "      <td>2016.0</td>\n",
       "      <td>19986.0</td>\n",
       "      <td>92.0</td>\n",
       "      <td>2017-01-01 04:07:27</td>\n",
       "      <td>469000.0</td>\n",
       "      <td>Auto Jarov, s.r.o. - Das WeltAuto</td>\n",
       "    </tr>\n",
       "    <tr>\n",
       "      <th>4</th>\n",
       "      <td>64878922</td>\n",
       "      <td>Renault</td>\n",
       "      <td>Modus</td>\n",
       "      <td>2008.0</td>\n",
       "      <td>108815.0</td>\n",
       "      <td>55.0</td>\n",
       "      <td>2017-01-01 04:07:31</td>\n",
       "      <td>88000.0</td>\n",
       "      <td>Auto Jarov, s.r.o. - Das WeltAuto</td>\n",
       "    </tr>\n",
       "  </tbody>\n",
       "</table>\n",
       "</div>"
      ],
      "text/plain": [
       "         id       make           model  makeyear  kilometer  power  \\\n",
       "0  64878582  Chevrolet           Spark    2008.0    76901.0   38.0   \n",
       "1  64878919       Audi              A3    2016.0     3914.0   92.0   \n",
       "2  64878920         VW  Golf Sportsvan    2016.0    14852.0   92.0   \n",
       "3  64878921         VW  Golf Sportsvan    2016.0    19986.0   92.0   \n",
       "4  64878922    Renault           Modus    2008.0   108815.0   55.0   \n",
       "\n",
       "               datein     price                             seller  \n",
       "0 2017-01-01 01:27:43   48000.0                               None  \n",
       "1 2017-01-01 04:07:21  629000.0  Auto Jarov, s.r.o. - Das WeltAuto  \n",
       "2 2017-01-01 04:07:24  468000.0  Auto Jarov, s.r.o. - Das WeltAuto  \n",
       "3 2017-01-01 04:07:27  469000.0  Auto Jarov, s.r.o. - Das WeltAuto  \n",
       "4 2017-01-01 04:07:31   88000.0  Auto Jarov, s.r.o. - Das WeltAuto  "
      ]
     },
     "execution_count": 2,
     "metadata": {},
     "output_type": "execute_result"
    }
   ],
   "source": [
    "conn = podbc.connect(\"Driver={SQL Server};Server=CZPHAAASQL16\\DM;Database=DataMining2;\")\n",
    "myqr1=\"SELECT [Id] AS [id], [Make] AS [make], [Model] AS [model], [Makeyear] AS [makeyear], [Tachometer] AS [kilometer], \" \n",
    "myqr2=\"[Power] AS [power], [DateIn] AS [datein], [Price] AS [price], [SellerName] AS [seller] \"\n",
    "myqr3=\"FROM [DataMining2].[dbo].[DmXmls] WHERE (ServerId=1 AND  \"\n",
    "myqr4=\"DateIn>= Convert(datetime,'2017-01-01') AND DateIn<Convert(datetime,'2017-12-31'));\"\n",
    "myqr = myqr1 + myqr2 + myqr3 + myqr4 \n",
    "cars = pd.read_sql_query(myqr, conn)\n",
    "print(len(cars))\n",
    "print(cars.columns)\n",
    "cars.head()"
   ]
  },
  {
   "cell_type": "code",
   "execution_count": 3,
   "metadata": {},
   "outputs": [
    {
     "data": {
      "text/plain": [
       "6970"
      ]
     },
     "execution_count": 3,
     "metadata": {},
     "output_type": "execute_result"
    }
   ],
   "source": [
    "len(cars[cars.seller == \"Mototechna\"])"
   ]
  },
  {
   "cell_type": "code",
   "execution_count": 4,
   "metadata": {},
   "outputs": [
    {
     "data": {
      "text/plain": [
       "51983"
      ]
     },
     "execution_count": 4,
     "metadata": {},
     "output_type": "execute_result"
    }
   ],
   "source": [
    "len(cars[cars.seller == \"AAA AUTO\"])"
   ]
  },
  {
   "cell_type": "code",
   "execution_count": 5,
   "metadata": {},
   "outputs": [
    {
     "data": {
      "text/plain": [
       "8945"
      ]
     },
     "execution_count": 5,
     "metadata": {},
     "output_type": "execute_result"
    }
   ],
   "source": [
    "len(cars[cars.seller == \"AUTO DISKONT\"])"
   ]
  },
  {
   "cell_type": "code",
   "execution_count": 6,
   "metadata": {
    "scrolled": false
   },
   "outputs": [
    {
     "data": {
      "text/plain": [
       "332817"
      ]
     },
     "execution_count": 6,
     "metadata": {},
     "output_type": "execute_result"
    }
   ],
   "source": [
    "cars = cars[(cars.seller!=\"AAA AUTO\")&(cars.seller!=\"Mototechna\")&(cars.seller!=\"AUTO DISKONT\")]\n",
    "len(cars)"
   ]
  },
  {
   "cell_type": "code",
   "execution_count": 7,
   "metadata": {
    "collapsed": true
   },
   "outputs": [],
   "source": [
    "del cars[\"seller\"]"
   ]
  },
  {
   "cell_type": "code",
   "execution_count": 8,
   "metadata": {},
   "outputs": [
    {
     "name": "stdout",
     "output_type": "stream",
     "text": [
      "328534\n"
     ]
    }
   ],
   "source": [
    "cars.dropna( inplace=True)\n",
    "calen = len(cars)\n",
    "print(calen) "
   ]
  },
  {
   "cell_type": "code",
   "execution_count": 9,
   "metadata": {
    "scrolled": true
   },
   "outputs": [
    {
     "name": "stdout",
     "output_type": "stream",
     "text": [
      "done\n"
     ]
    }
   ],
   "source": [
    "cars.to_csv(path_or_buf='raw_Sauto2017_for_anchors.csv', index=False, index_label=None)\n",
    "print('done')"
   ]
  },
  {
   "cell_type": "code",
   "execution_count": 82,
   "metadata": {},
   "outputs": [
    {
     "name": "stdout",
     "output_type": "stream",
     "text": [
      "328534\n",
      "Index(['id', 'make', 'model', 'makeyear', 'kilometer', 'power', 'datein',\n",
      "       'price'],\n",
      "      dtype='object')\n"
     ]
    },
    {
     "data": {
      "text/html": [
       "<div>\n",
       "<table border=\"1\" class=\"dataframe\">\n",
       "  <thead>\n",
       "    <tr style=\"text-align: right;\">\n",
       "      <th></th>\n",
       "      <th>id</th>\n",
       "      <th>make</th>\n",
       "      <th>model</th>\n",
       "      <th>makeyear</th>\n",
       "      <th>kilometer</th>\n",
       "      <th>power</th>\n",
       "      <th>datein</th>\n",
       "      <th>price</th>\n",
       "    </tr>\n",
       "  </thead>\n",
       "  <tbody>\n",
       "    <tr>\n",
       "      <th>0</th>\n",
       "      <td>64878582</td>\n",
       "      <td>Chevrolet</td>\n",
       "      <td>Spark</td>\n",
       "      <td>2008.0</td>\n",
       "      <td>76901.0</td>\n",
       "      <td>38.0</td>\n",
       "      <td>2017-01-01 01:27:43</td>\n",
       "      <td>48000.0</td>\n",
       "    </tr>\n",
       "    <tr>\n",
       "      <th>1</th>\n",
       "      <td>64878919</td>\n",
       "      <td>Audi</td>\n",
       "      <td>A3</td>\n",
       "      <td>2016.0</td>\n",
       "      <td>3914.0</td>\n",
       "      <td>92.0</td>\n",
       "      <td>2017-01-01 04:07:21</td>\n",
       "      <td>629000.0</td>\n",
       "    </tr>\n",
       "    <tr>\n",
       "      <th>2</th>\n",
       "      <td>64878920</td>\n",
       "      <td>VW</td>\n",
       "      <td>Golf Sportsvan</td>\n",
       "      <td>2016.0</td>\n",
       "      <td>14852.0</td>\n",
       "      <td>92.0</td>\n",
       "      <td>2017-01-01 04:07:24</td>\n",
       "      <td>468000.0</td>\n",
       "    </tr>\n",
       "    <tr>\n",
       "      <th>3</th>\n",
       "      <td>64878921</td>\n",
       "      <td>VW</td>\n",
       "      <td>Golf Sportsvan</td>\n",
       "      <td>2016.0</td>\n",
       "      <td>19986.0</td>\n",
       "      <td>92.0</td>\n",
       "      <td>2017-01-01 04:07:27</td>\n",
       "      <td>469000.0</td>\n",
       "    </tr>\n",
       "    <tr>\n",
       "      <th>4</th>\n",
       "      <td>64878922</td>\n",
       "      <td>Renault</td>\n",
       "      <td>Modus</td>\n",
       "      <td>2008.0</td>\n",
       "      <td>108815.0</td>\n",
       "      <td>55.0</td>\n",
       "      <td>2017-01-01 04:07:31</td>\n",
       "      <td>88000.0</td>\n",
       "    </tr>\n",
       "  </tbody>\n",
       "</table>\n",
       "</div>"
      ],
      "text/plain": [
       "         id       make           model  makeyear  kilometer  power  \\\n",
       "0  64878582  Chevrolet           Spark    2008.0    76901.0   38.0   \n",
       "1  64878919       Audi              A3    2016.0     3914.0   92.0   \n",
       "2  64878920         VW  Golf Sportsvan    2016.0    14852.0   92.0   \n",
       "3  64878921         VW  Golf Sportsvan    2016.0    19986.0   92.0   \n",
       "4  64878922    Renault           Modus    2008.0   108815.0   55.0   \n",
       "\n",
       "                datein     price  \n",
       "0  2017-01-01 01:27:43   48000.0  \n",
       "1  2017-01-01 04:07:21  629000.0  \n",
       "2  2017-01-01 04:07:24  468000.0  \n",
       "3  2017-01-01 04:07:27  469000.0  \n",
       "4  2017-01-01 04:07:31   88000.0  "
      ]
     },
     "execution_count": 82,
     "metadata": {},
     "output_type": "execute_result"
    }
   ],
   "source": [
    "cars = pd.read_csv(\"raw_Sauto2017_for_anchors.csv\", engine='python', encoding='Latin_1')\n",
    "calen = len(cars)\n",
    "print(calen) \n",
    "print(cars.columns)\n",
    "cars.head()"
   ]
  },
  {
   "cell_type": "code",
   "execution_count": 83,
   "metadata": {},
   "outputs": [
    {
     "data": {
      "text/plain": [
       "0    1\n",
       "1    1\n",
       "2    1\n",
       "3    1\n",
       "4    1\n",
       "Name: day_in, dtype: int64"
      ]
     },
     "execution_count": 83,
     "metadata": {},
     "output_type": "execute_result"
    }
   ],
   "source": [
    "import datetime as dt\n",
    "import time as tm\n",
    "\n",
    "cars[\"year_in\"] = cars[\"datein\"].apply(lambda yy: int(yy[0:4]))\n",
    "cars[\"month_in\"] = cars[\"datein\"].apply(lambda yy: int(yy[5:7]))\n",
    "cars[\"day_in\"] = cars[\"datein\"].apply(lambda yy: int(yy[8:10]))\n",
    "cars[\"day_in\"].head()"
   ]
  },
  {
   "cell_type": "code",
   "execution_count": 84,
   "metadata": {},
   "outputs": [
    {
     "data": {
      "text/plain": [
       "Index(['id', 'make', 'model', 'makeyear', 'kilometer', 'power', 'datein',\n",
       "       'price', 'year_in', 'month_in', 'day_in', 'days_on'],\n",
       "      dtype='object')"
      ]
     },
     "execution_count": 84,
     "metadata": {},
     "output_type": "execute_result"
    }
   ],
   "source": [
    "cars[\"days_on\"] = 31-cars[\"day_in\"]+30*(12-cars[\"month_in\"])\n",
    "cars.columns"
   ]
  },
  {
   "cell_type": "code",
   "execution_count": 85,
   "metadata": {},
   "outputs": [
    {
     "data": {
      "text/html": [
       "<div>\n",
       "<table border=\"1\" class=\"dataframe\">\n",
       "  <thead>\n",
       "    <tr style=\"text-align: right;\">\n",
       "      <th></th>\n",
       "      <th>id</th>\n",
       "      <th>make</th>\n",
       "      <th>model</th>\n",
       "      <th>makeyear</th>\n",
       "      <th>kilometer</th>\n",
       "      <th>power</th>\n",
       "      <th>days_on</th>\n",
       "      <th>price</th>\n",
       "    </tr>\n",
       "  </thead>\n",
       "  <tbody>\n",
       "    <tr>\n",
       "      <th>0</th>\n",
       "      <td>64878582</td>\n",
       "      <td>Chevrolet</td>\n",
       "      <td>Spark</td>\n",
       "      <td>2008.0</td>\n",
       "      <td>76901.0</td>\n",
       "      <td>38.0</td>\n",
       "      <td>360</td>\n",
       "      <td>48000.0</td>\n",
       "    </tr>\n",
       "    <tr>\n",
       "      <th>1</th>\n",
       "      <td>64878919</td>\n",
       "      <td>Audi</td>\n",
       "      <td>A3</td>\n",
       "      <td>2016.0</td>\n",
       "      <td>3914.0</td>\n",
       "      <td>92.0</td>\n",
       "      <td>360</td>\n",
       "      <td>629000.0</td>\n",
       "    </tr>\n",
       "    <tr>\n",
       "      <th>2</th>\n",
       "      <td>64878920</td>\n",
       "      <td>VW</td>\n",
       "      <td>Golf Sportsvan</td>\n",
       "      <td>2016.0</td>\n",
       "      <td>14852.0</td>\n",
       "      <td>92.0</td>\n",
       "      <td>360</td>\n",
       "      <td>468000.0</td>\n",
       "    </tr>\n",
       "    <tr>\n",
       "      <th>3</th>\n",
       "      <td>64878921</td>\n",
       "      <td>VW</td>\n",
       "      <td>Golf Sportsvan</td>\n",
       "      <td>2016.0</td>\n",
       "      <td>19986.0</td>\n",
       "      <td>92.0</td>\n",
       "      <td>360</td>\n",
       "      <td>469000.0</td>\n",
       "    </tr>\n",
       "    <tr>\n",
       "      <th>4</th>\n",
       "      <td>64878922</td>\n",
       "      <td>Renault</td>\n",
       "      <td>Modus</td>\n",
       "      <td>2008.0</td>\n",
       "      <td>108815.0</td>\n",
       "      <td>55.0</td>\n",
       "      <td>360</td>\n",
       "      <td>88000.0</td>\n",
       "    </tr>\n",
       "  </tbody>\n",
       "</table>\n",
       "</div>"
      ],
      "text/plain": [
       "         id       make           model  makeyear  kilometer  power  days_on  \\\n",
       "0  64878582  Chevrolet           Spark    2008.0    76901.0   38.0      360   \n",
       "1  64878919       Audi              A3    2016.0     3914.0   92.0      360   \n",
       "2  64878920         VW  Golf Sportsvan    2016.0    14852.0   92.0      360   \n",
       "3  64878921         VW  Golf Sportsvan    2016.0    19986.0   92.0      360   \n",
       "4  64878922    Renault           Modus    2008.0   108815.0   55.0      360   \n",
       "\n",
       "      price  \n",
       "0   48000.0  \n",
       "1  629000.0  \n",
       "2  468000.0  \n",
       "3  469000.0  \n",
       "4   88000.0  "
      ]
     },
     "execution_count": 85,
     "metadata": {},
     "output_type": "execute_result"
    }
   ],
   "source": [
    "cols_to_keep = [\"id\",\"make\",\"model\",\"makeyear\",\"kilometer\",\"power\",\"days_on\",\"price\"]\n",
    "cars = cars[cols_to_keep]\n",
    "cars.head()\n",
    "#cars = cars.rename(columns={'datein':'days_on'})"
   ]
  },
  {
   "cell_type": "code",
   "execution_count": 86,
   "metadata": {
    "collapsed": true
   },
   "outputs": [],
   "source": [
    "cars['days_on'].fillna( method=\"ffill\", inplace=True )\n",
    "cars.sort_values(['days_on'], ascending=True, inplace=True)"
   ]
  },
  {
   "cell_type": "code",
   "execution_count": 87,
   "metadata": {},
   "outputs": [
    {
     "data": {
      "text/html": [
       "<div>\n",
       "<table border=\"1\" class=\"dataframe\">\n",
       "  <thead>\n",
       "    <tr style=\"text-align: right;\">\n",
       "      <th></th>\n",
       "      <th>id</th>\n",
       "      <th>make</th>\n",
       "      <th>model</th>\n",
       "      <th>makeyear</th>\n",
       "      <th>kilometer</th>\n",
       "      <th>power</th>\n",
       "      <th>days_on</th>\n",
       "      <th>price</th>\n",
       "    </tr>\n",
       "  </thead>\n",
       "  <tbody>\n",
       "    <tr>\n",
       "      <th>116063</th>\n",
       "      <td>75022193</td>\n",
       "      <td>Peugeot</td>\n",
       "      <td>406</td>\n",
       "      <td>1995.0</td>\n",
       "      <td>230000.0</td>\n",
       "      <td>81.0</td>\n",
       "      <td>1</td>\n",
       "      <td>10000.0</td>\n",
       "    </tr>\n",
       "    <tr>\n",
       "      <th>77475</th>\n",
       "      <td>75014740</td>\n",
       "      <td>Honda</td>\n",
       "      <td>CRV</td>\n",
       "      <td>2017.0</td>\n",
       "      <td>4.0</td>\n",
       "      <td>88.0</td>\n",
       "      <td>1</td>\n",
       "      <td>535500.0</td>\n",
       "    </tr>\n",
       "  </tbody>\n",
       "</table>\n",
       "</div>"
      ],
      "text/plain": [
       "              id     make model  makeyear  kilometer  power  days_on     price\n",
       "116063  75022193  Peugeot   406    1995.0   230000.0   81.0        1   10000.0\n",
       "77475   75014740    Honda   CRV    2017.0        4.0   88.0        1  535500.0"
      ]
     },
     "execution_count": 87,
     "metadata": {},
     "output_type": "execute_result"
    }
   ],
   "source": [
    "cars.head(2)"
   ]
  },
  {
   "cell_type": "code",
   "execution_count": 88,
   "metadata": {
    "scrolled": true
   },
   "outputs": [
    {
     "data": {
      "text/html": [
       "<div>\n",
       "<table border=\"1\" class=\"dataframe\">\n",
       "  <thead>\n",
       "    <tr style=\"text-align: right;\">\n",
       "      <th></th>\n",
       "      <th>id</th>\n",
       "      <th>make</th>\n",
       "      <th>model</th>\n",
       "      <th>makeyear</th>\n",
       "      <th>kilometer</th>\n",
       "      <th>power</th>\n",
       "      <th>days_on</th>\n",
       "      <th>price</th>\n",
       "    </tr>\n",
       "  </thead>\n",
       "  <tbody>\n",
       "    <tr>\n",
       "      <th>83</th>\n",
       "      <td>64886441</td>\n",
       "      <td>VW</td>\n",
       "      <td>Multivan</td>\n",
       "      <td>2009.0</td>\n",
       "      <td>210000.0</td>\n",
       "      <td>96.0</td>\n",
       "      <td>360</td>\n",
       "      <td>412000.0</td>\n",
       "    </tr>\n",
       "    <tr>\n",
       "      <th>0</th>\n",
       "      <td>64878582</td>\n",
       "      <td>Chevrolet</td>\n",
       "      <td>Spark</td>\n",
       "      <td>2008.0</td>\n",
       "      <td>76901.0</td>\n",
       "      <td>38.0</td>\n",
       "      <td>360</td>\n",
       "      <td>48000.0</td>\n",
       "    </tr>\n",
       "  </tbody>\n",
       "</table>\n",
       "</div>"
      ],
      "text/plain": [
       "          id       make     model  makeyear  kilometer  power  days_on  \\\n",
       "83  64886441         VW  Multivan    2009.0   210000.0   96.0      360   \n",
       "0   64878582  Chevrolet     Spark    2008.0    76901.0   38.0      360   \n",
       "\n",
       "       price  \n",
       "83  412000.0  \n",
       "0    48000.0  "
      ]
     },
     "execution_count": 88,
     "metadata": {},
     "output_type": "execute_result"
    }
   ],
   "source": [
    "cars.tail(2)"
   ]
  },
  {
   "cell_type": "code",
   "execution_count": 89,
   "metadata": {},
   "outputs": [
    {
     "name": "stdout",
     "output_type": "stream",
     "text": [
      "306261\n"
     ]
    }
   ],
   "source": [
    "ctk = [\"make\",\"model\",\"makeyear\",\"kilometer\",\"power\",\"price\"]\n",
    "cars = cars[ctk]\n",
    "cars.drop_duplicates( keep='first', inplace=True)\n",
    "calen = len(cars)\n",
    "print(calen) "
   ]
  },
  {
   "cell_type": "code",
   "execution_count": 90,
   "metadata": {},
   "outputs": [
    {
     "data": {
      "text/html": [
       "<div>\n",
       "<table border=\"1\" class=\"dataframe\">\n",
       "  <thead>\n",
       "    <tr style=\"text-align: right;\">\n",
       "      <th></th>\n",
       "      <th>make</th>\n",
       "      <th>model</th>\n",
       "      <th>makeyear</th>\n",
       "      <th>kilometer</th>\n",
       "      <th>power</th>\n",
       "      <th>price</th>\n",
       "    </tr>\n",
       "  </thead>\n",
       "  <tbody>\n",
       "    <tr>\n",
       "      <th>116063</th>\n",
       "      <td>Peugeot</td>\n",
       "      <td>406</td>\n",
       "      <td>1995</td>\n",
       "      <td>230000</td>\n",
       "      <td>81</td>\n",
       "      <td>10000</td>\n",
       "    </tr>\n",
       "    <tr>\n",
       "      <th>77475</th>\n",
       "      <td>Honda</td>\n",
       "      <td>CRV</td>\n",
       "      <td>2017</td>\n",
       "      <td>4</td>\n",
       "      <td>88</td>\n",
       "      <td>535500</td>\n",
       "    </tr>\n",
       "    <tr>\n",
       "      <th>77476</th>\n",
       "      <td>Mazda</td>\n",
       "      <td>626</td>\n",
       "      <td>2003</td>\n",
       "      <td>148500</td>\n",
       "      <td>100</td>\n",
       "      <td>18888</td>\n",
       "    </tr>\n",
       "    <tr>\n",
       "      <th>77477</th>\n",
       "      <td>Renault</td>\n",
       "      <td>Laguna</td>\n",
       "      <td>1999</td>\n",
       "      <td>177000</td>\n",
       "      <td>79</td>\n",
       "      <td>29000</td>\n",
       "    </tr>\n",
       "    <tr>\n",
       "      <th>77478</th>\n",
       "      <td>Ford</td>\n",
       "      <td>Focus</td>\n",
       "      <td>2005</td>\n",
       "      <td>170000</td>\n",
       "      <td>85</td>\n",
       "      <td>65000</td>\n",
       "    </tr>\n",
       "  </tbody>\n",
       "</table>\n",
       "</div>"
      ],
      "text/plain": [
       "           make   model  makeyear  kilometer  power   price\n",
       "116063  Peugeot     406      1995     230000     81   10000\n",
       "77475     Honda     CRV      2017          4     88  535500\n",
       "77476     Mazda     626      2003     148500    100   18888\n",
       "77477   Renault  Laguna      1999     177000     79   29000\n",
       "77478      Ford   Focus      2005     170000     85   65000"
      ]
     },
     "execution_count": 90,
     "metadata": {},
     "output_type": "execute_result"
    }
   ],
   "source": [
    "cti = [\"makeyear\",\"kilometer\",\"power\",\"price\"]\n",
    "for i in range(0,4):\n",
    "    cars[cti[i]] = cars[cti[i]].apply(lambda mt: int(mt))\n",
    "cars.head()"
   ]
  },
  {
   "cell_type": "code",
   "execution_count": 91,
   "metadata": {
    "collapsed": true
   },
   "outputs": [],
   "source": [
    "conn=podbc.connect(\"Driver={SQL Server};Server=CZPHAAADS01;Database=Pricing;uid=data_reader;pwd=data_reader123\")\n",
    "myqr=\"SELECT [m_m_comb_dm] AS [make_model], [m_m_comb_navi] AS [make_model_trans] FROM [Pricing].[dbo].[trans_make_model];\"\n",
    "trans_mms = pd.read_sql_query(myqr, conn)"
   ]
  },
  {
   "cell_type": "code",
   "execution_count": 92,
   "metadata": {
    "collapsed": true
   },
   "outputs": [],
   "source": [
    "cars[\"make_model\"] = cars[\"make\"] + cars[\"model\"] "
   ]
  },
  {
   "cell_type": "code",
   "execution_count": 93,
   "metadata": {},
   "outputs": [
    {
     "name": "stdout",
     "output_type": "stream",
     "text": [
      "309370\n"
     ]
    }
   ],
   "source": [
    "cars = pd.merge(cars, trans_mms, on=\"make_model\", how='outer')\n",
    "print(len(cars)) "
   ]
  },
  {
   "cell_type": "code",
   "execution_count": 94,
   "metadata": {},
   "outputs": [
    {
     "data": {
      "text/html": [
       "<div>\n",
       "<table border=\"1\" class=\"dataframe\">\n",
       "  <thead>\n",
       "    <tr style=\"text-align: right;\">\n",
       "      <th></th>\n",
       "      <th>make</th>\n",
       "      <th>model</th>\n",
       "      <th>makeyear</th>\n",
       "      <th>kilometer</th>\n",
       "      <th>power</th>\n",
       "      <th>price</th>\n",
       "      <th>make_model</th>\n",
       "      <th>make_model_trans</th>\n",
       "    </tr>\n",
       "  </thead>\n",
       "  <tbody>\n",
       "    <tr>\n",
       "      <th>306256</th>\n",
       "      <td>Dodge</td>\n",
       "      <td>Chalenger</td>\n",
       "      <td>2010.0</td>\n",
       "      <td>126000.0</td>\n",
       "      <td>186.0</td>\n",
       "      <td>590000.0</td>\n",
       "      <td>DodgeChalenger</td>\n",
       "      <td>DodgeChallenger</td>\n",
       "    </tr>\n",
       "    <tr>\n",
       "      <th>306257</th>\n",
       "      <td>Proton</td>\n",
       "      <td>413</td>\n",
       "      <td>2001.0</td>\n",
       "      <td>139000.0</td>\n",
       "      <td>55.0</td>\n",
       "      <td>12800.0</td>\n",
       "      <td>Proton413</td>\n",
       "      <td>Proton413</td>\n",
       "    </tr>\n",
       "    <tr>\n",
       "      <th>306258</th>\n",
       "      <td>Ligier</td>\n",
       "      <td>JS RC</td>\n",
       "      <td>2015.0</td>\n",
       "      <td>6300.0</td>\n",
       "      <td>4.0</td>\n",
       "      <td>344850.0</td>\n",
       "      <td>LigierJS RC</td>\n",
       "      <td>LigierJS RC</td>\n",
       "    </tr>\n",
       "    <tr>\n",
       "      <th>306259</th>\n",
       "      <td>Zastava</td>\n",
       "      <td>1100</td>\n",
       "      <td>1975.0</td>\n",
       "      <td>56119.0</td>\n",
       "      <td>40.0</td>\n",
       "      <td>30250.0</td>\n",
       "      <td>Zastava1100</td>\n",
       "      <td>Zastava1100</td>\n",
       "    </tr>\n",
       "    <tr>\n",
       "      <th>306260</th>\n",
       "      <td>Mitsubishi</td>\n",
       "      <td>L400</td>\n",
       "      <td>2001.0</td>\n",
       "      <td>314000.0</td>\n",
       "      <td>64.0</td>\n",
       "      <td>34000.0</td>\n",
       "      <td>MitsubishiL400</td>\n",
       "      <td>MitsubishiL400</td>\n",
       "    </tr>\n",
       "  </tbody>\n",
       "</table>\n",
       "</div>"
      ],
      "text/plain": [
       "              make      model  makeyear  kilometer  power     price  \\\n",
       "306256       Dodge  Chalenger    2010.0   126000.0  186.0  590000.0   \n",
       "306257      Proton        413    2001.0   139000.0   55.0   12800.0   \n",
       "306258      Ligier      JS RC    2015.0     6300.0    4.0  344850.0   \n",
       "306259     Zastava       1100    1975.0    56119.0   40.0   30250.0   \n",
       "306260  Mitsubishi       L400    2001.0   314000.0   64.0   34000.0   \n",
       "\n",
       "            make_model make_model_trans  \n",
       "306256  DodgeChalenger  DodgeChallenger  \n",
       "306257       Proton413        Proton413  \n",
       "306258     LigierJS RC      LigierJS RC  \n",
       "306259     Zastava1100      Zastava1100  \n",
       "306260  MitsubishiL400   MitsubishiL400  "
      ]
     },
     "execution_count": 94,
     "metadata": {},
     "output_type": "execute_result"
    }
   ],
   "source": [
    "cars = cars.head(306261)\n",
    "cars.tail()"
   ]
  },
  {
   "cell_type": "code",
   "execution_count": 95,
   "metadata": {},
   "outputs": [
    {
     "data": {
      "text/plain": [
       "2635"
      ]
     },
     "execution_count": 95,
     "metadata": {},
     "output_type": "execute_result"
    }
   ],
   "source": [
    "cars[\"make_model_trans\"].fillna(\"0\",inplace=True)\n",
    "missing_trans = cars[cars.make_model_trans==\"0\"] \n",
    "len(missing_trans)"
   ]
  },
  {
   "cell_type": "code",
   "execution_count": 96,
   "metadata": {
    "collapsed": true
   },
   "outputs": [],
   "source": [
    "cars.loc[cars.make_model_trans==\"0\",\"make_model_trans\"] = cars[\"make_model\"]"
   ]
  },
  {
   "cell_type": "code",
   "execution_count": 98,
   "metadata": {
    "collapsed": true
   },
   "outputs": [],
   "source": [
    "del cars[\"make_model\"]\n",
    "cars = cars.rename(columns={\"make_model_trans\":\"make_model\"})"
   ]
  },
  {
   "cell_type": "code",
   "execution_count": 99,
   "metadata": {},
   "outputs": [
    {
     "name": "stdout",
     "output_type": "stream",
     "text": [
      "306261\n"
     ]
    }
   ],
   "source": [
    "cars.dropna( inplace=True)\n",
    "calen = len(cars)\n",
    "print(calen) "
   ]
  },
  {
   "cell_type": "code",
   "execution_count": 103,
   "metadata": {
    "collapsed": true
   },
   "outputs": [],
   "source": [
    "cols_to_int = [\"makeyear\",\"kilometer\",\"power\",\"price\"]\n",
    "ctilen = len(cols_to_int)\n",
    "for i in range(0, ctilen):\n",
    "    cars[cols_to_int[i]] = cars[cols_to_int[i]].apply(lambda ct: int(ct))\n",
    "cols_to_keep = [\"make\",\"model\",\"make_model\",\"makeyear\",\"kilometer\",\"power\",\"price\"]  \n",
    "cars = cars[cols_to_keep]"
   ]
  },
  {
   "cell_type": "code",
   "execution_count": 109,
   "metadata": {},
   "outputs": [],
   "source": [
    "cars[\"make_model\"] = cars[\"make_model\"].apply(lambda mm: mm.lower()) "
   ]
  },
  {
   "cell_type": "code",
   "execution_count": 110,
   "metadata": {},
   "outputs": [
    {
     "data": {
      "text/html": [
       "<div>\n",
       "<table border=\"1\" class=\"dataframe\">\n",
       "  <thead>\n",
       "    <tr style=\"text-align: right;\">\n",
       "      <th></th>\n",
       "      <th>make</th>\n",
       "      <th>model</th>\n",
       "      <th>make_model</th>\n",
       "      <th>makeyear</th>\n",
       "      <th>kilometer</th>\n",
       "      <th>power</th>\n",
       "      <th>price</th>\n",
       "    </tr>\n",
       "  </thead>\n",
       "  <tbody>\n",
       "    <tr>\n",
       "      <th>0</th>\n",
       "      <td>Peugeot</td>\n",
       "      <td>406</td>\n",
       "      <td>peugeot406</td>\n",
       "      <td>1995</td>\n",
       "      <td>230000</td>\n",
       "      <td>81</td>\n",
       "      <td>10000</td>\n",
       "    </tr>\n",
       "    <tr>\n",
       "      <th>1</th>\n",
       "      <td>Peugeot</td>\n",
       "      <td>406</td>\n",
       "      <td>peugeot406</td>\n",
       "      <td>1996</td>\n",
       "      <td>161550</td>\n",
       "      <td>65</td>\n",
       "      <td>27000</td>\n",
       "    </tr>\n",
       "    <tr>\n",
       "      <th>2</th>\n",
       "      <td>Peugeot</td>\n",
       "      <td>406</td>\n",
       "      <td>peugeot406</td>\n",
       "      <td>2004</td>\n",
       "      <td>186300</td>\n",
       "      <td>80</td>\n",
       "      <td>44000</td>\n",
       "    </tr>\n",
       "    <tr>\n",
       "      <th>3</th>\n",
       "      <td>Peugeot</td>\n",
       "      <td>406</td>\n",
       "      <td>peugeot406</td>\n",
       "      <td>1998</td>\n",
       "      <td>254000</td>\n",
       "      <td>66</td>\n",
       "      <td>13000</td>\n",
       "    </tr>\n",
       "    <tr>\n",
       "      <th>4</th>\n",
       "      <td>Peugeot</td>\n",
       "      <td>406</td>\n",
       "      <td>peugeot406</td>\n",
       "      <td>2002</td>\n",
       "      <td>372000</td>\n",
       "      <td>80</td>\n",
       "      <td>16900</td>\n",
       "    </tr>\n",
       "  </tbody>\n",
       "</table>\n",
       "</div>"
      ],
      "text/plain": [
       "      make model  make_model  makeyear  kilometer  power  price\n",
       "0  Peugeot   406  peugeot406      1995     230000     81  10000\n",
       "1  Peugeot   406  peugeot406      1996     161550     65  27000\n",
       "2  Peugeot   406  peugeot406      2004     186300     80  44000\n",
       "3  Peugeot   406  peugeot406      1998     254000     66  13000\n",
       "4  Peugeot   406  peugeot406      2002     372000     80  16900"
      ]
     },
     "execution_count": 110,
     "metadata": {},
     "output_type": "execute_result"
    }
   ],
   "source": [
    "cars.head()"
   ]
  },
  {
   "cell_type": "code",
   "execution_count": 111,
   "metadata": {},
   "outputs": [
    {
     "name": "stdout",
     "output_type": "stream",
     "text": [
      "done\n"
     ]
    }
   ],
   "source": [
    "cars.to_csv(path_or_buf='Sauto2017_for_anchors_transformed.csv', index=False, index_label=None)\n",
    "print('done')"
   ]
  },
  {
   "cell_type": "code",
   "execution_count": null,
   "metadata": {
    "collapsed": true
   },
   "outputs": [],
   "source": []
  }
 ],
 "metadata": {
  "kernelspec": {
   "display_name": "Python 3",
   "language": "python",
   "name": "python3"
  },
  "language_info": {
   "codemirror_mode": {
    "name": "ipython",
    "version": 3
   },
   "file_extension": ".py",
   "mimetype": "text/x-python",
   "name": "python",
   "nbconvert_exporter": "python",
   "pygments_lexer": "ipython3",
   "version": "3.7.9"
  }
 },
 "nbformat": 4,
 "nbformat_minor": 2
}
